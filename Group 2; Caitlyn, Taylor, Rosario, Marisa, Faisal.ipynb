{
 "cells": [
  {
   "cell_type": "markdown",
   "id": "905cae25",
   "metadata": {},
   "source": [
    "# Temporal Code Definition: \n",
    "Data that is related to the timing of events"
   ]
  },
  {
   "cell_type": "markdown",
   "id": "8b5750f7",
   "metadata": {},
   "source": [
    "# Rate Code Defintion:\n",
    "Data that is related to the frequency of events"
   ]
  },
  {
   "cell_type": "markdown",
   "id": "783e4f8d",
   "metadata": {},
   "source": [
    "# Synchronous Code Defintion:\n",
    "Data that is related to two or more inputs during an event that will sum to create one output"
   ]
  },
  {
   "cell_type": "markdown",
   "id": "ddc6bb1e",
   "metadata": {},
   "source": [
    "# Tuning Curves Code Definition\n",
    "Graphs showing how neurons respond to stimulus"
   ]
  },
  {
   "cell_type": "markdown",
   "id": "04779f7c",
   "metadata": {},
   "source": [
    "# Population Code Definition:\n",
    "The summation of a group of neurons"
   ]
  },
  {
   "cell_type": "markdown",
   "id": "e0f05adb",
   "metadata": {},
   "source": [
    "# Latency Code Definition:\n",
    "Delay between stimulus and response"
   ]
  },
  {
   "cell_type": "markdown",
   "id": "56116718",
   "metadata": {},
   "source": [
    "# Compare and Contrast\n",
    "| Term| Compare|Contrast|\n",
    "|---|---|---|\n",
    "| Temporal| way of coding that exists on a spectrum | Based on time |\n",
    "| Rate| way of coding that exists on a specturm| Based on frequency |\n",
    "\n",
    "| Term| Compare|Contrast|\n",
    "|---|---|---|\n",
    "| Tuning curve| Demonstrate a neural response to a stimulus| Individual Neurons |\n",
    "| Population | Demonstrate a neural response to a stimulus| Groups of Neurons |\n",
    "\n",
    "| Term| Compare|Contrast|\n",
    "|---|---|---|\n",
    "| Tuning curve| Relate firing frequency to output| Graphical Representation |\n",
    "| Rate | Relate firing frequency to output| Average Mathamatical Representation|"
   ]
  },
  {
   "cell_type": "markdown",
   "id": "b97afc96",
   "metadata": {},
   "source": [
    "#"
   ]
  },
  {
   "cell_type": "markdown",
   "id": "1f17eb4a",
   "metadata": {},
   "source": []
  }
 ],
 "metadata": {
  "kernelspec": {
   "display_name": "Python 3 (ipykernel)",
   "language": "python",
   "name": "python3"
  },
  "language_info": {
   "codemirror_mode": {
    "name": "ipython",
    "version": 3
   },
   "file_extension": ".py",
   "mimetype": "text/x-python",
   "name": "python",
   "nbconvert_exporter": "python",
   "pygments_lexer": "ipython3",
   "version": "3.11.5"
  }
 },
 "nbformat": 4,
 "nbformat_minor": 5
}
